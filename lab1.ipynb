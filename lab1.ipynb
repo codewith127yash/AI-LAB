{
 "cells": [
  {
   "cell_type": "markdown",
   "id": "6073f927",
   "metadata": {},
   "source": [
    "# Assignment-1: Maze Solver using BFS and DFS \n",
    "Objective: Implement BFS and DFS to solve a maze. \n",
    "Problem Statement: Given a grid-based maze where 0 represents walls and 1 \n",
    "represents walkable paths, find the shortest path from a start cell to an end cell. \n",
    "Tasks: \n",
    "⚫ Use BFS to find the shortest path. \n",
    "⚫ Use DFS to explore all possible paths and report one valid path (not necessarily \n",
    "the shortest). \n",
    "⚫ Compare the number of nodes explored by BFS and DFS."
   ]
  },
  {
   "cell_type": "code",
   "execution_count": null,
   "id": "8baf0238-385e-4d71-9d97-bba51a5e8dcc",
   "metadata": {},
   "outputs": [
    {
     "name": "stdout",
     "output_type": "stream",
     "text": [
      "BFS Path: [(0, 0), (0, 1), (1, 1), (2, 1), (2, 2), (2, 3), (2, 4), (3, 4), (4, 4)]\n",
      "DFS Path: [(0, 0), (0, 1), (1, 1), (2, 1), (2, 0), (3, 0), (4, 0), (4, 1), (4, 2), (4, 3), (4, 4)]\n"
     ]
    },
    {
     "data": {
      "image/png": "[encoded data removed]",
      "text/plain": [
       "<Figure size 640x480 with 1 Axes>"
      ]
     },
     "metadata": {},
     "output_type": "display_data"
    }
   ],
   "source": [
    "import numpy as np\n",
    "import matplotlib.pyplot as plt\n",
    "from collections import deque\n",
    "\n",
    "def bfs(maze, start, end):\n",
    "    rows, cols = maze.shape\n",
    "    queue = deque([(start, [start])])\n",
    "    visited = set()\n",
    "    \n",
    "    while queue:\n",
    "        (x, y), path = queue.popleft()\n",
    "        \n",
    "        if (x, y) == end:\n",
    "            return path\n",
    "        \n",
    "        visited.add((x, y))\n",
    "        \n",
    "        for dx, dy in [(-1, 0), (1, 0), (0, -1), (0, 1)]:\n",
    "            nx, ny = x + dx, y + dy\n",
    "            if 0 <= nx < rows and 0 <= ny < cols and maze[nx, ny] == 1 and (nx, ny) not in visited:\n",
    "                queue.append(((nx, ny), path + [(nx, ny)]))\n",
    "    \n",
    "    return None\n",
    "\n",
    "def dfs(maze, start, end, path=None, visited=None):\n",
    "    if path is None:\n",
    "        path = [start]\n",
    "    if visited is None:\n",
    "        visited = set()\n",
    "    \n",
    "    if start == end:\n",
    "        return path\n",
    "    \n",
    "    visited.add(start)\n",
    "    x, y = start\n",
    "    \n",
    "    for dx, dy in [(-1, 0), (1, 0), (0, -1), (0, 1)]:\n",
    "        nx, ny = x + dx, y + dy\n",
    "        if 0 <= nx < maze.shape[0] and 0 <= ny < maze.shape[1] and maze[nx, ny] == 1 and (nx, ny) not in visited:\n",
    "            new_path = dfs(maze, (nx, ny), end, path + [(nx, ny)], visited)\n",
    "            if new_path:\n",
    "                return new_path\n",
    "    \n",
    "    return None\n",
    "\n",
    "def visualize_maze(maze, path_bfs, path_dfs):\n",
    "    img = np.ones((*maze.shape, 3), dtype=np.uint8) * 255 #white\n",
    "    img[maze == 0] = (0, 0, 0) #black\n",
    "    \n",
    "    for x, y in path_bfs:\n",
    "        img[x, y] = (0, 255, 0)\n",
    "    \n",
    "    for x, y in path_dfs:\n",
    "        img[x, y] = (255, 0, 0)\n",
    "    \n",
    "    plt.imshow(img)\n",
    "    plt.title(\"Maze Solution: BFS (Green) vs DFS (Red)\")\n",
    "    plt.show()\n",
    "\n",
    "if __name__ == \"__main__\":\n",
    "    maze = np.array([\n",
    "        [1, 1, 0, 1, 1],\n",
    "        [0, 1, 0, 1, 0],\n",
    "        [1, 1, 1, 1, 1],\n",
    "        [1, 0, 0, 0, 1],\n",
    "        [1, 1, 1, 1, 1]\n",
    "    ])\n",
    "    \n",
    "    start, end = (0, 0), (4, 4)\n",
    "    path_bfs = bfs(maze, start, end)\n",
    "    path_dfs = dfs(maze, start, end)\n",
    "    \n",
    "    print(f\"BFS Path: {path_bfs}\") #green \n",
    "    print(f\"DFS Path: {path_dfs}\") #red\n",
    "    \n",
    "    visualize_maze(maze, path_bfs, path_dfs)\n"
   ]
  },
  {
   "cell_type": "markdown",
   "id": "10b4c816",
   "metadata": {},
   "source": []
  }
 ],
 "metadata": {
  "kernelspec": {
   "display_name": "Python 3",
   "language": "python",
   "name": "python3"
  },
  "language_info": {
   "codemirror_mode": {
    "name": "ipython",
    "version": 3
   },
   "file_extension": ".py",
   "mimetype": "text/x-python",
   "name": "python",
   "nbconvert_exporter": "python",
   "pygments_lexer": "ipython3",
   "version": "3.13.1"
  }
 },
 "nbformat": 4,
 "nbformat_minor": 5
}
