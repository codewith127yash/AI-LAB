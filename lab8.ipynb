{
 "cells": [
  {
   "cell_type": "markdown",
   "metadata": {},
   "source": [
    "## Step 1: Implement BFS (Breadth-First Search)\n",
    "- BFS finds the shortest path to collect all goals before reaching the exit.\n",
    "- It explores all neighbors level by level, ensuring the shortest path in an unweighted grid.\n",
    "- BFS guarantees the shortest path in terms of steps.\n"
   ]
  },
  {
   "cell_type": "code",
   "execution_count": 6,
   "metadata": {},
   "outputs": [
    {
     "name": "stdout",
     "output_type": "stream",
     "text": [
      "A B C D E F \n",
      "Nodes explored: 6\n"
     ]
    }
   ],
   "source": [
    "from collections import deque\n",
    "\n",
    "def bfs(graph, start):\n",
    "    visited = set()\n",
    "    queue = deque([start])\n",
    "    visited.add(start)\n",
    "    nodes_explored = 0\n",
    "    \n",
    "    while queue:\n",
    "        node = queue.popleft()\n",
    "        print(node, end=\" \")\n",
    "        nodes_explored += 1\n",
    "        \n",
    "        for neighbor in graph[node]:\n",
    "            if neighbor not in visited:\n",
    "                queue.append(neighbor)\n",
    "                visited.add(neighbor)\n",
    "    \n",
    "    return nodes_explored\n",
    "\n",
    "# Example usage\n",
    "graph = {\n",
    "    'A': ['B', 'C'],\n",
    "    'B': ['A', 'D', 'E'],\n",
    "    'C': ['A', 'F'],\n",
    "    'D': ['B'],\n",
    "    'E': ['B', 'F'],\n",
    "    'F': ['C', 'E']\n",
    "}\n",
    "\n",
    "start_node = 'A'\n",
    "nodes_explored = bfs(graph, start_node)\n",
    "print(\"\\nNodes explored:\", nodes_explored)"
   ]
  },
  {
   "cell_type": "code",
   "execution_count": 1,
   "metadata": {},
   "outputs": [
    {
     "name": "stdout",
     "output_type": "stream",
     "text": [
      "BFS Graph Traversal:\n",
      "A B C D E F \n",
      "Nodes explored in graph: 6\n",
      "\n",
      "BFS Maze Solving:\n",
      "Path found in maze: ['A', 'C', 'F']\n",
      "Nodes explored in maze: 6\n"
     ]
    }
   ],
   "source": [
    "from collections import deque\n",
    "\n",
    "def bfs_graph(graph, start):\n",
    "    visited = set()\n",
    "    queue = deque([start])\n",
    "    visited.add(start)\n",
    "    nodes_explored = 0\n",
    "    \n",
    "    while queue:\n",
    "        node = queue.popleft()\n",
    "        print(node, end=\" \")\n",
    "        nodes_explored += 1\n",
    "        \n",
    "        for neighbor in graph[node]:\n",
    "            if neighbor not in visited:\n",
    "                queue.append(neighbor)\n",
    "                visited.add(neighbor)\n",
    "    \n",
    "    return nodes_explored\n",
    "\n",
    "def bfs_maze_solver(graph, start, end):\n",
    "    queue = deque([(start, [start])])\n",
    "    visited = set([start])\n",
    "    nodes_explored = 0\n",
    "    \n",
    "    while queue:\n",
    "        current, path = queue.popleft()\n",
    "        nodes_explored += 1\n",
    "        \n",
    "        if current == end:\n",
    "            return path, nodes_explored\n",
    "        \n",
    "        for neighbor in graph[current]:\n",
    "            if neighbor not in visited:\n",
    "                queue.append((neighbor, path + [neighbor]))\n",
    "                visited.add(neighbor)\n",
    "    \n",
    "    return None, nodes_explored  # No path found\n",
    "\n",
    "# Example usage with a graph representing a maze\n",
    "maze_graph = {\n",
    "    'A': ['B', 'C'],\n",
    "    'B': ['A', 'D', 'E'],\n",
    "    'C': ['A', 'F'],\n",
    "    'D': ['B'],\n",
    "    'E': ['B', 'F'],\n",
    "    'F': ['C', 'E']\n",
    "}\n",
    "\n",
    "start_node = 'A'\n",
    "end_node = 'F'\n",
    "\n",
    "# BFS for graph traversal\n",
    "print(\"BFS Graph Traversal:\")\n",
    "nodes_explored_graph = bfs_graph(maze_graph, start_node)\n",
    "print(\"\\nNodes explored in graph:\", nodes_explored_graph)\n",
    "\n",
    "# BFS for maze solving\n",
    "print(\"\\nBFS Maze Solving:\")\n",
    "path, nodes_explored_maze = bfs_maze_solver(maze_graph, start_node, end_node)\n",
    "if path:\n",
    "    print(\"Path found in maze:\", path)\n",
    "else:\n",
    "    print(\"No path found in maze\")\n",
    "print(\"Nodes explored in maze:\", nodes_explored_maze)"
   ]
  },
  {
   "cell_type": "code",
   "execution_count": 2,
   "metadata": {},
   "outputs": [
    {
     "name": "stdout",
     "output_type": "stream",
     "text": [
      "Path found:\n",
      "(0, 0)\n",
      "(1, 0)\n",
      "(2, 0)\n",
      "(3, 0)\n",
      "(3, 1)\n",
      "(2, 1)\n",
      "(2, 2)\n",
      "(1, 2)\n",
      "(0, 2)\n",
      "(0, 3)\n",
      "(1, 3)\n",
      "(2, 3)\n",
      "(2, 4)\n",
      "(1, 4)\n",
      "(1, 5)\n",
      "(0, 5)\n"
     ]
    }
   ],
   "source": [
    "# Maze dimensions and obstacles\n",
    "maze_size = 6\n",
    "obstacles = [(0,1),(1,1),(3,2),(3,3),(3,4),(3,5),(0,4),(4,1),(4,2),(4,3)]\n",
    "start = (0,0)\n",
    "goal = (0,5)\n",
    "\n",
    "# checks whether a given position of (x,y) is valid to move or not\n",
    "def is_valid(x,y):\n",
    "  return 0 <= x < maze_size and 0 <= y < maze_size and (x,y) not in obstacles\n",
    "\n",
    "#Dfs function (Depth-first search)\n",
    "def dfs (current, visited, path):\n",
    "  x, y = current\n",
    "  if current == goal:\n",
    "    path.append(current)\n",
    "    return True\n",
    "  visited.add(current)\n",
    "  moves = [(x-1,y), (x+1, y), (x, y-1), (x, y+1)]\n",
    "  for move in moves:\n",
    "    if is_valid(*move) and move not in visited:\n",
    "      if dfs(move, visited, path):\n",
    "        path.append(current)\n",
    "        return True\n",
    "  return False\n",
    "\n",
    "#Call DFS function to find the path\n",
    "visited = set()\n",
    "path = []\n",
    "if dfs(start, visited, path):\n",
    "  path.reverse()\n",
    "  print(\"Path found:\")\n",
    "  for position in path:\n",
    "    print(position)\n",
    "else:\n",
    "  print(\"No path found!\")"
   ]
  },
  {
   "cell_type": "code",
   "execution_count": 3,
   "metadata": {},
   "outputs": [],
   "source": [
    "class Graph:#Define the Graph Representation\n",
    "    def __init__(self):\n",
    "        self.graph = {}  # Adjacency list\n",
    "\n",
    "    def add_edge(self, u, v, weight):\n",
    "        if u not in self.graph:\n",
    "            self.graph[u] = []\n",
    "        self.graph[u].append((v, weight))\n",
    "        if v not in self.graph:\n",
    "            self.graph[v] = []\n",
    "        self.graph[v].append((u, weight))  # Assuming undirected graph\n"
   ]
  },
  {
   "cell_type": "code",
   "execution_count": 4,
   "metadata": {},
   "outputs": [],
   "source": [
    "import heapq #Define the Uniform Cost Search Algorithm\n",
    "\n",
    "def uniform_cost_search(graph, start, goal):\n",
    "    # Priority Queue for UCS\n",
    "    pq = [(0, start, [])]  # (cost, node, path)\n",
    "    visited = set()\n",
    "\n",
    "    while pq:\n",
    "        cost, node, path = heapq.heappop(pq)\n",
    "        \n",
    "        if node in visited:\n",
    "            continue\n",
    "        visited.add(node)\n",
    "        path = path + [node]\n",
    "\n",
    "        # Goal check\n",
    "        if node == goal:\n",
    "            return path, cost\n",
    "\n",
    "        for neighbor, weight in graph.graph.get(node, []):\n",
    "            if neighbor not in visited:\n",
    "                heapq.heappush(pq, (cost + weight, neighbor, path))\n",
    "\n",
    "    return None, float('inf')  # No path found\n"
   ]
  },
  {
   "cell_type": "code",
   "execution_count": 5,
   "metadata": {},
   "outputs": [
    {
     "name": "stdout",
     "output_type": "stream",
     "text": [
      "UCS Path: ['A', 'B', 'C', 'E'], Cost: 4\n"
     ]
    }
   ],
   "source": [
    "# Create a graph # 4: Run UCS and BFS on the Graph and Compare Performance\n",
    "g = Graph()\n",
    "g.add_edge('A', 'B', 1)\n",
    "g.add_edge('A', 'C', 3)\n",
    "g.add_edge('B', 'C', 1)\n",
    "g.add_edge('B', 'D', 4)\n",
    "g.add_edge('C', 'D', 1)\n",
    "g.add_edge('C', 'E', 2)\n",
    "g.add_edge('D', 'E', 1)\n",
    "\n",
    "# Run UCS\n",
    "path_ucs, cost_ucs = uniform_cost_search(g, 'A', 'E')\n",
    "\n",
    "\n",
    "\n",
    "# Print results\n",
    "print(f\"UCS Path: {path_ucs}, Cost: {cost_ucs}\")\n",
    "\n"
   ]
  }
 ],
 "metadata": {
  "kernelspec": {
   "display_name": "Python 3",
   "language": "python",
   "name": "python3"
  },
  "language_info": {
   "codemirror_mode": {
    "name": "ipython",
    "version": 3
   },
   "file_extension": ".py",
   "mimetype": "text/x-python",
   "name": "python",
   "nbconvert_exporter": "python",
   "pygments_lexer": "ipython3",
   "version": "3.12.6"
  }
 },
 "nbformat": 4,
 "nbformat_minor": 2
}
