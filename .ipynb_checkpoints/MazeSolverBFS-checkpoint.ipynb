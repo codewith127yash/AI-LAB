{
 "cells": [
  {
   "cell_type": "code",
   "execution_count": 1,
   "id": "dc628604-efad-4b1e-a5bc-96294497ff30",
   "metadata": {},
   "outputs": [
    {
     "name": "stdout",
     "output_type": "stream",
     "text": [
      "Input Graph:\n",
      "A: ['B', 'C']\n",
      "B: ['A', 'D', 'E']\n",
      "C: ['A', 'F']\n",
      "D: ['B']\n",
      "E: ['B', 'F']\n",
      "F: ['C', 'E']\n",
      "\n",
      "BFS Traversal: ['A', 'B', 'C', 'D', 'E', 'F']\n"
     ]
    }
   ],
   "source": [
    "from collections import deque\n",
    "\n",
    "def bfs(graph, start_node):\n",
    "    # Create a set to track visited nodes\n",
    "    visited = set()\n",
    "    # Create a queue for BFS\n",
    "    queue = deque([start_node])\n",
    "    # List to store the order of traversal\n",
    "    traversal_order = []\n",
    "\n",
    "    while queue:\n",
    "        # Dequeue a node\n",
    "        node = queue.popleft()\n",
    "\n",
    "        if node not in visited:\n",
    "            # Mark the node as visited\n",
    "            visited.add(node)\n",
    "            # Add the node to traversal order\n",
    "            traversal_order.append(node)\n",
    "\n",
    "            # Enqueue all adjacent nodes that are not visited\n",
    "            for neighbor in graph[node]:\n",
    "                if neighbor not in visited:\n",
    "                    queue.append(neighbor)\n",
    "\n",
    "    return traversal_order\n",
    "\n",
    "# Example usage:\n",
    "if __name__ == \"__main__\":\n",
    "    # Define a graph as an adjacency list\n",
    "    graph = {\n",
    "        'A': ['B', 'C'],\n",
    "        'B': ['A', 'D', 'E'],\n",
    "        'C': ['A', 'F'],\n",
    "        'D': ['B'],\n",
    "        'E': ['B', 'F'],\n",
    "        'F': ['C', 'E']\n",
    "    }\n",
    "    start = 'A'\n",
    "    \n",
    "    # Print the graph\n",
    "    print(\"Input Graph:\")\n",
    "    for node, neighbors in graph.items():\n",
    "        print(f\"{node}: {neighbors}\")\n",
    "    \n",
    "    # Perform BFS\n",
    "    print(\"\\nBFS Traversal:\", bfs(graph, start))\n"
   ]
  },
  {
   "cell_type": "code",
   "execution_count": null,
   "id": "34d56cfe-cbbe-46c1-b3cb-8b0b6464a955",
   "metadata": {},
   "outputs": [],
   "source": []
  }
 ],
 "metadata": {
  "kernelspec": {
   "display_name": "Python 3 (ipykernel)",
   "language": "python",
   "name": "python3"
  },
  "language_info": {
   "codemirror_mode": {
    "name": "ipython",
    "version": 3
   },
   "file_extension": ".py",
   "mimetype": "text/x-python",
   "name": "python",
   "nbconvert_exporter": "python",
   "pygments_lexer": "ipython3",
   "version": "3.11.7"
  }
 },
 "nbformat": 4,
 "nbformat_minor": 5
}
