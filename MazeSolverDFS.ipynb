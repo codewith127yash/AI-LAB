{
 "cells": [
  {
   "cell_type": "code",
   "execution_count": 1,
   "id": "dc628604-efad-4b1e-a5bc-96294497ff30",
   "metadata": {},
   "outputs": [
    {
     "name": "stdout",
     "output_type": "stream",
     "text": [
      "Path found:\n",
      "(0, 0)\n",
      "(1, 0)\n",
      "(2, 0)\n",
      "(3, 0)\n",
      "(3, 1)\n",
      "(2, 1)\n",
      "(2, 2)\n",
      "(1, 2)\n",
      "(0, 2)\n",
      "(0, 3)\n",
      "(1, 3)\n",
      "(2, 3)\n",
      "(2, 4)\n",
      "(1, 4)\n",
      "(1, 5)\n",
      "(0, 5)\n"
     ]
    }
   ],
   "source": [
    "# Maze dimensions and obstacles\n",
    "maze_size = 6\n",
    "obstacles = [(0, 1), (1, 1), (3, 2), (3, 3), (3, 4), (3, 5), (0, 4), (4, 1), (4, 2), (4, 3)]\n",
    "start = (0, 0)\n",
    "goal = (0, 5)\n",
    "\n",
    "# Checks whether a given position of (x, y) is valid to move or not\n",
    "def is_valid(x, y):\n",
    "    return 0 <= x < maze_size and 0 <= y < maze_size and (x, y) not in obstacles\n",
    "\n",
    "# DFS function (Depth-First Search)\n",
    "def dfs(current, visited, path):\n",
    "    x, y = current\n",
    "    if current == goal:\n",
    "        path.append(current)\n",
    "        return True\n",
    "    visited.add(current)\n",
    "    moves = [(x - 1, y), (x + 1, y), (x, y - 1), (x, y + 1)]\n",
    "    for move in moves:\n",
    "        if is_valid(*move) and move not in visited:\n",
    "            if dfs(move, visited, path):\n",
    "                path.append(current)\n",
    "                return True\n",
    "    return False\n",
    "\n",
    "# Call DFS function to find the path\n",
    "visited = set()\n",
    "path = []\n",
    "if dfs(start, visited, path):\n",
    "    path.reverse()\n",
    "    print(\"Path found:\")\n",
    "    for position in path:\n",
    "        print(position)\n",
    "else:\n",
    "    print(\"No path found!\")\n"
   ]
  },
  {
   "cell_type": "code",
   "execution_count": null,
   "id": "e8cdd1db-dc40-4af1-9bb4-31a533eb1da8",
   "metadata": {},
   "outputs": [],
   "source": []
  }
 ],
 "metadata": {
  "kernelspec": {
   "display_name": "Python 3 (ipykernel)",
   "language": "python",
   "name": "python3"
  },
  "language_info": {
   "codemirror_mode": {
    "name": "ipython",
    "version": 3
   },
   "file_extension": ".py",
   "mimetype": "text/x-python",
   "name": "python",
   "nbconvert_exporter": "python",
   "pygments_lexer": "ipython3",
   "version": "3.11.7"
  }
 },
 "nbformat": 4,
 "nbformat_minor": 5
}
