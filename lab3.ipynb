{
 "cells": [
  {
   "cell_type": "code",
   "execution_count": 1,
   "id": "3a6fd22d-0bb8-4015-83f0-b06111f5f347",
   "metadata": {},
   "outputs": [
    {
     "name": "stdout",
     "output_type": "stream",
     "text": [
      "Path to treasure: [(0, 0), (0, 1), (0, 2), (0, 3), (0, 4), (0, 5), (0, 6), (0, 7), (0, 8), (1, 8), (2, 8), (3, 8), (4, 8), (5, 8), (6, 8), (7, 8), (8, 8)]\n"
     ]
    },
    {
     "data": {
      "image/png": "[encoded data removed]",
      "text/plain": [
       "<Figure size 640x480 with 1 Axes>"
      ]
     },
     "metadata": {},
     "output_type": "display_data"
    }
   ],
   "source": [
    "import heapq\n",
    "import numpy as np\n",
    "import matplotlib.pyplot as plt\n",
    "import cv2\n",
    "\n",
    "def generate_grid(size, treasure_pos):\n",
    "    grid = np.zeros((size, size), dtype=int)\n",
    "    for i in range(size):\n",
    "        for j in range(size):\n",
    "            grid[i, j] = abs(i - treasure_pos[0]) + abs(j - treasure_pos[1])\n",
    "    return grid\n",
    "\n",
    "def best_first_search(grid, start, treasure):\n",
    "    rows, cols = grid.shape\n",
    "    directions = [(-1, 0), (1, 0), (0, -1), (0, 1)]\n",
    "    priority_queue = [(grid[start], start, [start])]\n",
    "    visited = set()\n",
    "    \n",
    "    while priority_queue:\n",
    "        _, (x, y), path = heapq.heappop(priority_queue)\n",
    "        \n",
    "        if (x, y) == treasure:\n",
    "            return path\n",
    "        \n",
    "        visited.add((x, y))\n",
    "        \n",
    "        for dx, dy in directions:\n",
    "            nx, ny = x + dx, y + dy\n",
    "            if 0 <= nx < rows and 0 <= ny < cols and (nx, ny) not in visited:\n",
    "                heapq.heappush(priority_queue, (grid[nx, ny], (nx, ny), path + [(nx, ny)]))\n",
    "    \n",
    "    return []\n",
    "\n",
    "def visualize_search(grid, path, start, treasure):\n",
    "    img = np.zeros((grid.shape[0], grid.shape[1], 3), dtype=np.uint8)\n",
    "    img[grid > 0] = (255, 255, 255)\n",
    "    \n",
    "    for x, y in path:\n",
    "        img[x, y] = (0, 255, 0)\n",
    "    \n",
    "    img[start] = (0, 0, 255)  # Start position (Red)\n",
    "    img[treasure] = (255, 0, 0)  # Treasure position (Blue)\n",
    "    \n",
    "    plt.imshow(img)\n",
    "    plt.title(\"Best-First Search for Treasure\")\n",
    "    plt.show()\n",
    "\n",
    "if __name__ == \"__main__\":\n",
    "    size = 10\n",
    "    start = (0, 0)\n",
    "    treasure = (8, 8)\n",
    "    grid = generate_grid(size, treasure)\n",
    "    \n",
    "    path = best_first_search(grid, start, treasure)\n",
    "    \n",
    "    print(f\"Path to treasure: {path}\")\n",
    "    visualize_search(grid, path, start, treasure)\n"
   ]
  }
 ],
 "metadata": {
  "kernelspec": {
   "display_name": "Python 3",
   "language": "python",
   "name": "python3"
  },
  "language_info": {
   "codemirror_mode": {
    "name": "ipython",
    "version": 3
   },
   "file_extension": ".py",
   "mimetype": "text/x-python",
   "name": "python",
   "nbconvert_exporter": "python",
   "pygments_lexer": "ipython3",
   "version": "3.13.1"
  }
 },
 "nbformat": 4,
 "nbformat_minor": 5
}
